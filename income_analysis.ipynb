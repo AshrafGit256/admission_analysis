{
 "cells": [
  {
   "cell_type": "markdown",
   "id": "bbf1e36f",
   "metadata": {},
   "source": [
    "## Import Necessary Libaries"
   ]
  },
  {
   "cell_type": "code",
   "execution_count": 6,
   "id": "fee38a5c",
   "metadata": {},
   "outputs": [],
   "source": [
    "import pandas as pd\n",
    "import re\n",
    "from PyPDF2 import PdfReader"
   ]
  },
  {
   "cell_type": "markdown",
   "id": "db4cf891",
   "metadata": {},
   "source": [
    "## Load the PDF and Extract Text from Annex Pages"
   ]
  },
  {
   "cell_type": "code",
   "execution_count": null,
   "id": "f56fd1ab",
   "metadata": {},
   "outputs": [],
   "source": [
    "pdf_path = \"Estimating-District-GDP-in-Uganda.pdf.pdf\"  # Update if path is different\n",
    "reader = PdfReader(pdf_path)\n",
    "\n",
    "# Check number of pages\n",
    "print(\"Total pages:\", len(reader.pages))\n",
    "\n",
    "# Extract text from Annex A: Results Tables (usually pages 15–18 in the document)\n",
    "annex_text = \"\"\n",
    "for page_num in range(14, 18):  # Pages are 0-indexed\n",
    "    annex_text += reader.pages[page_num].extract_text()\n"
   ]
  }
 ],
 "metadata": {
  "kernelspec": {
   "display_name": "Python 3",
   "language": "python",
   "name": "python3"
  },
  "language_info": {
   "codemirror_mode": {
    "name": "ipython",
    "version": 3
   },
   "file_extension": ".py",
   "mimetype": "text/x-python",
   "name": "python",
   "nbconvert_exporter": "python",
   "pygments_lexer": "ipython3",
   "version": "3.12.6"
  }
 },
 "nbformat": 4,
 "nbformat_minor": 5
}
