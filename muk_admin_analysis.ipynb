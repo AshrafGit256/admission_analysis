{
 "cells": [
  {
   "cell_type": "code",
   "execution_count": 4,
   "id": "117be382",
   "metadata": {},
   "outputs": [],
   "source": [
    "import fitz\n",
    "import re\n",
    "import pandas as pd\n",
    "\n",
    "# Load PDF\n",
    "doc = fitz.open(\"ADMISSION LISTS DIRECT ENTRY PRIVATE  NOTICE BOARD 2025-2026 (2) (2) (1).pdf\")\n",
    "all_text = \"\"\n",
    "for page in doc:\n",
    "    all_text += page.get_text()\n"
   ]
  },
  {
   "cell_type": "code",
   "execution_count": 5,
   "id": "000af444",
   "metadata": {},
   "outputs": [],
   "source": [
    "# Define regex pattern\n",
    "pattern = re.compile(\n",
    "    r\"^(\\d+)\\s+(\\w+\\/\\d+)\\s+([A-Z\\s\\.\\'-]+?)\\s+(M|F)\\s+(\\d{4})\\s+(\\d+)\\s+([A-Z\\s]+?)\\s+(\\d+)\\s+(.*?)\\s+(\\d+\\.?\\d*)$\",\n",
    "    re.MULTILINE\n",
    ")\n",
    "\n",
    "matches = pattern.findall(all_text)\n",
    "\n",
    "# Create DataFrame\n",
    "columns = ['formid', 'index_no', 'name', 'gender', 'uace_year',\n",
    "           'dcode', 'dname', 'course_code', 'course_name', 'tot_wt']\n",
    "\n",
    "df = pd.DataFrame(matches, columns=columns)\n"
   ]
  },
  {
   "cell_type": "code",
   "execution_count": 6,
   "id": "225d82d2",
   "metadata": {},
   "outputs": [],
   "source": [
    "df.to_csv(\"students_data(1).csv\", index=False)"
   ]
  },
  {
   "cell_type": "code",
   "execution_count": null,
   "id": "fb1d0951",
   "metadata": {},
   "outputs": [],
   "source": []
  }
 ],
 "metadata": {
  "kernelspec": {
   "display_name": "Python 3",
   "language": "python",
   "name": "python3"
  },
  "language_info": {
   "codemirror_mode": {
    "name": "ipython",
    "version": 3
   },
   "file_extension": ".py",
   "mimetype": "text/x-python",
   "name": "python",
   "nbconvert_exporter": "python",
   "pygments_lexer": "ipython3",
   "version": "3.12.6"
  }
 },
 "nbformat": 4,
 "nbformat_minor": 5
}
