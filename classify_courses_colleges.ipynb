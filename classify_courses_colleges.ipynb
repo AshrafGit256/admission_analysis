{
 "cells": [
  {
   "cell_type": "code",
   "execution_count": 7,
   "metadata": {},
   "outputs": [
    {
     "name": "stdout",
     "output_type": "stream",
     "text": [
      "Classification complete and file saved.\n"
     ]
    }
   ],
   "source": [
    "import pandas as pd\n",
    "\n",
    "# Load the data\n",
    "df = pd.read_excel('cleaned_clustered_admissions(14).xlsx')  # Replace with your file path\n",
    "\n",
    "# Define course to college mapping\n",
    "course_college_map = {\n",
    "    \"CHS\": [\"BDS\", \"BDT\", \"BEH\", \"BLT\", \"BMR\", \"BOS\", \"BPT\", \"BYT\", \"MAM\", \"MLT\", \"NUR\", \"PHA\", \"BSL\", 'SSM'],\n",
    "    \"LAW\": [\"LLB\"], # Added LLB based on the initial dataset you provided\n",
    "    \"CEES\": [\"BEC\", \"BYW\", \"EDA\", \"EDB\", \"EDP\", \"EEC\", 'SPS'],\n",
    "    \"COVAB\": [\"BJA\", \"BLB\", \"SCB\", \"SCP\", \"SCX\", \"VET\"],\n",
    "    \"COBAMS\": [\"ACC\", \"ADA\", \"ADJ\", \"ADM\", \"AML\", \"BBA\", \"BBC\", \"BBD\", \"BBE\", \"BBJ\", \"BHE\", \"BHJ\", \"BHM\", \"BIB\", \"BIM\", \"BJB\", \"BJJ\", \"BJO\", \"BJS\", \"BKE\", \"BLC\", \"BLM\", \"BMA\", \"BML\", \"BMM\", \"BMS\", \"BNE\", \"BNM\", \"BOM\", \"BPL\", \"BQE\", \"BRJ\", \"BRM\", \"BRO\", \"BSA\", \"BSF\", \"BSU\", \"BTB\", \"BTH\", \"BTT\", \"CEA\", \"CMM\", \"COB\", \"COE\", \"COM\", \"CRJ\", \"CRO\", \"ECE\", \"ECN\", \"ECO\", \"HMA\", \"HML\", \"HNM\", \"HOM\", \"HSJ\", \"HSO\", \"JAA\", \"JBE\", \"JOA\", \"MTM\", \"PMA\", \"PML\", \"PMM\", \"PNM\", \"PSC\", \"PSM\", \"PSU\", \"SEC\", \"TLM\", \"TTM\", \"BPS\", \"BST\", \"BUS\", \"SAS\", \"STA\"],\n",
    "    \"CoNAS\": [\"BBI\", \"BBP\", \"BBT\", \"BCB\", \"BIC\", \"SPS\"],\n",
    "    \"COCIS\": [\"BIA\", \"BSI\", \"BSJ\", \"BSW\", \"CSC\", \"CSE\", \"CSJ\", \"IST\", \"JCA\", \"SSE\"],\n",
    "    \"CAES\": [\"AGE\", \"AGM\", \"AGR\", \"BAI\", \"BEV\", \"BFS\", \"BGS\", \"BHD\", \"BIX\", \"BOF\", \"BUP\", \"BWE\", \"FST\"],\n",
    "    \"CEDAT\": [\"ARC\", \"BFA\", \"BID\", \"BVC\", \"BVL\", \"CCE\", \"CIV\", \"ELE\", \"LSG\", \"MEC\", \"BPG\", \"SQS\"],\n",
    "    \"CHUSS\": [\"APS\", \"APY\", \"ARS\", \"ASE\", \"ASS\", \"BAC\", \"BAP\", \"BCE\", \"BEN\", \"BEY\", \"BJC\", \"BJE\", \"BLE\", \"BLG\", \"DPA\", \"LGM\", \"LIS\", \"MUS\"],\n",
    "}\n",
    "\n",
    "# Create reverse mapping\n",
    "reverse_map = {course_code: college for college, codes in course_college_map.items() for course_code in codes}\n",
    "\n",
    "# Map course_code to college\n",
    "df['college'] = df['course_code'].map(reverse_map).fillna('Other')\n",
    "\n",
    "# Save to new file\n",
    "df.to_excel('cleaned_clustered_admissions(15).xlsx', index=False)\n",
    "print('Classification complete and file saved.')"
   ]
  },
  {
   "cell_type": "code",
   "execution_count": null,
   "id": "dc17dd74",
   "metadata": {},
   "outputs": [],
   "source": []
  }
 ],
 "metadata": {
  "kernelspec": {
   "display_name": "Python 3",
   "language": "python",
   "name": "python3"
  },
  "language_info": {
   "codemirror_mode": {
    "name": "ipython",
    "version": 3
   },
   "file_extension": ".py",
   "mimetype": "text/x-python",
   "name": "python",
   "nbconvert_exporter": "python",
   "pygments_lexer": "ipython3",
   "version": "3.12.6"
  }
 },
 "nbformat": 4,
 "nbformat_minor": 5
}
