{
 "cells": [
  {
   "cell_type": "code",
   "execution_count": 1,
   "id": "e2b245a1",
   "metadata": {},
   "outputs": [],
   "source": [
    "import pandas as pd\n",
    "\n",
    "# Load the Excel file\n",
    "df = pd.read_excel(\"Cleaned_Admission_List.xlsx\")\n",
    "\n",
    "# Standardize column names\n",
    "df.columns = df.columns.str.strip().str.lower()\n",
    "\n",
    "# Convert dcode to nullable integer\n",
    "df['dcode'] = pd.to_numeric(df['dcode'], errors='coerce').astype('Int64')\n",
    "\n",
    "# Fix all LUWERO records: set dcode to 4 (correct code)\n",
    "df.loc[df['dname'].str.upper() == 'LUWERO', 'dcode'] = 32\n",
    "\n",
    "# (Optional) Sort by index to preserve original order\n",
    "df.sort_index(inplace=True)\n",
    "\n",
    "# Save the corrected file\n",
    "df.to_excel(\"cleaned_district_codes.xlsx\", index=False)\n"
   ]
  }
 ],
 "metadata": {
  "kernelspec": {
   "display_name": "Python 3",
   "language": "python",
   "name": "python3"
  },
  "language_info": {
   "codemirror_mode": {
    "name": "ipython",
    "version": 3
   },
   "file_extension": ".py",
   "mimetype": "text/x-python",
   "name": "python",
   "nbconvert_exporter": "python",
   "pygments_lexer": "ipython3",
   "version": "3.12.6"
  }
 },
 "nbformat": 4,
 "nbformat_minor": 5
}
