{
 "cells": [
  {
   "cell_type": "markdown",
   "id": "2ab1256e",
   "metadata": {},
   "source": [
    "Loading the dataset"
   ]
  },
  {
   "cell_type": "code",
   "execution_count": 6,
   "id": "b414f61c",
   "metadata": {},
   "outputs": [
    {
     "name": "stdout",
     "output_type": "stream",
     "text": [
      "    no                 formid   index_no                      name ge uace_  \\\n",
      "0    1   25APF900350094290048  U2789/905         NIMUSIIMA SANDRAH  F  2024   \n",
      "1    2   25APF561140686250786  U0025/529   BULUKUKU DANIEL EPHRAIM  M  2014   \n",
      "2    3   25APF530278631275455  U2977/518         MIREMBE ELIZABETH  F  2024   \n",
      "3    4  25APF1346250173272930  U1664/712          NAMATA    MARTHA  F  2024   \n",
      "4    5  25APF1553620758303031  U0004/754            NAKALEMA JOYCE  F  2024   \n",
      "5    6  25APF1537469809268568  U2000/501              AGABA MARVIN  M  2024   \n",
      "6    7    25APF10681047294195  U1664/585           EDENI PRISCILLA  F  2024   \n",
      "7    8  25APF1652505897285843  U0742/607         NAMAGANDA SHITRAH  F  2024   \n",
      "8    9  25APF1647383334301940  U3216/541            AYEBALE ESTHER  F  2024   \n",
      "9   10   25APF984114651285328  U2732/507          MASEREKA GILBERT  M  2024   \n",
      "10  11   25APF577994830291646  U3687/528      NABWAMI VENESSA MARY  F  2024   \n",
      "11  12   25APF384641141289301  U1716/512      NANKANJA  IMMACULATE  F  2024   \n",
      "12  13  25APF1697288461304543  U0036/784              APIO  JULIET  F  2023   \n",
      "13  14   25APF201140512278646  U0064/631            JULIUS ENGWEDU  M  2024   \n",
      "14  15   25APF888115242307791  U0742/659  SSERUNYIIGO RASHID SSOZI  M  2024   \n",
      "15  16   25APF492651707299002  U1297/509    NALWADDA RONITAH ANGEL  F  2024   \n",
      "16  17  25APF1466754002295418  U0083/682            TAYEBWA SHIMON  F  2024   \n",
      "17  18   25APF473906968296919  U2789/822      ACIO  NAUME  DOLLICA  F  2024   \n",
      "18  19  25APF1470011917308002  U0482/522           ARINDA PLEASANT  F  2024   \n",
      "19  20    25APF40442339304544  U2261/509             BAAKO BENITAH  F  2024   \n",
      "\n",
      "   dcode      dname course_code            course_name tot_wt  \n",
      "0     55     WAKISO         ACC  BSC. Accounting (EVE)   42.7  \n",
      "1     93     KIBUKU         ACC  BSC. Accounting (EVE)   42.3  \n",
      "2     16    KAMPALA         ACC  BSC. Accounting (EVE)   41.1  \n",
      "3     33     MASAKA         ACC  BSC. Accounting (EVE)   40.7  \n",
      "4     33     MASAKA         ACC  BSC. Accounting (EVE)   40.3  \n",
      "5     46   NTUNGAMO         ACC  BSC. Accounting (EVE)   39.9  \n",
      "6      3       ARUA         ACC  BSC. Accounting (EVE)   39.8  \n",
      "7     10     IGANGA         ACC  BSC. Accounting (EVE)   39.6  \n",
      "8     32    LUWEERO         ACC  BSC. Accounting (EVE)   39.6  \n",
      "9     21     KASESE         ACC  BSC. Accounting (EVE)   39.4  \n",
      "10   101     LWENGO         ACC  BSC. Accounting (EVE)   39.4  \n",
      "11    16    KAMPALA         ACC  BSC. Accounting (EVE)   38.4  \n",
      "12    67    BUKEDEA         ACC  BSC. Accounting (EVE)   38.2  \n",
      "13    53     SOROTI         ACC  BSC. Accounting (EVE)   38.2  \n",
      "14    42     MUKONO         ACC  BSC. Accounting (EVE)     38  \n",
      "15    33     MASAKA         ACC  BSC. Accounting (EVE)     38  \n",
      "16    50  RUKUNGIRI         ACC  BSC. Accounting (EVE)   37.8  \n",
      "17     2       APAC         ACC  BSC. Accounting (EVE)   37.7  \n",
      "18   103    MITOOMA         ACC  BSC. Accounting (EVE)   37.6  \n",
      "19     3       ARUA         ACC  BSC. Accounting (EVE)   37.5  \n"
     ]
    }
   ],
   "source": [
    "import pandas as pd\n",
    "\n",
    "# Load the dataset, skipping the first 10 rows\n",
    "# This assumes your CSV file is in the same directory as your Python script or notebook\n",
    "df = pd.read_excel('Admission.xlsx', skiprows=5)\n",
    "\n",
    "# Print the first few rows (the header and some data) of the loaded dataset\n",
    "print(df.head(20))"
   ]
  },
  {
   "cell_type": "code",
   "execution_count": 2,
   "id": "588c692b",
   "metadata": {},
   "outputs": [
    {
     "name": "stdout",
     "output_type": "stream",
     "text": [
      "DataFrame after renaming columns (first 5 rows):\n",
      "  Record_Number                Form_ID Index_Number             Student_Name  \\\n",
      "0             1   25APF900350094290048    U2789/905        NIMUSIIMA SANDRAH   \n",
      "1             2   25APF561140686250786    U0025/529  BULUKUKU DANIEL EPHRAIM   \n",
      "2             3   25APF530278631275455    U2977/518        MIREMBE ELIZABETH   \n",
      "3             4  25APF1346250173272930    U1664/712         NAMATA    MARTHA   \n",
      "4             5  25APF1553620758303031    U0004/754           NAKALEMA JOYCE   \n",
      "\n",
      "  Gender UACE_Year District_Code District_Name Course_Code  \\\n",
      "0      F      2024            55        WAKISO         ACC   \n",
      "1      M      2014            93        KIBUKU         ACC   \n",
      "2      F      2024            16       KAMPALA         ACC   \n",
      "3      F      2024            33        MASAKA         ACC   \n",
      "4      F      2024            33        MASAKA         ACC   \n",
      "\n",
      "             Course_Name Total_Weight  \n",
      "0  BSC. Accounting (EVE)         42.7  \n",
      "1  BSC. Accounting (EVE)         42.3  \n",
      "2  BSC. Accounting (EVE)         41.1  \n",
      "3  BSC. Accounting (EVE)         40.7  \n",
      "4  BSC. Accounting (EVE)         40.3  \n"
     ]
    }
   ],
   "source": [
    "# Rename columns for clarity\n",
    "df = df.rename(columns={\n",
    "    'no': 'Record_Number', # Adding this for consistency as 'no' is not very descriptive\n",
    "    'formid': 'Form_ID',\n",
    "    'index_no': 'Index_Number',\n",
    "    'name': 'Student_Name',\n",
    "    'ge': 'Gender',\n",
    "    'uace_': 'UACE_Year',\n",
    "    'dcode': 'District_Code',\n",
    "    'dname': 'District_Name',\n",
    "    'course_code': 'Course_Code',\n",
    "    'course_name': 'Course_Name',\n",
    "    'tot_wt': 'Total_Weight'\n",
    "})\n",
    "\n",
    "print(\"DataFrame after renaming columns (first 5 rows):\")\n",
    "print(df.head())\n"
   ]
  },
  {
   "cell_type": "code",
   "execution_count": 3,
   "id": "a81a7863",
   "metadata": {},
   "outputs": [
    {
     "name": "stdout",
     "output_type": "stream",
     "text": [
      "<class 'pandas.core.frame.DataFrame'>\n",
      "RangeIndex: 20245 entries, 0 to 20244\n",
      "Data columns (total 11 columns):\n",
      " #   Column         Non-Null Count  Dtype \n",
      "---  ------         --------------  ----- \n",
      " 0   Record_Number  20086 non-null  object\n",
      " 1   Form_ID        19927 non-null  object\n",
      " 2   Index_Number   19927 non-null  object\n",
      " 3   Student_Name   19927 non-null  object\n",
      " 4   Gender         19927 non-null  object\n",
      " 5   UACE_Year      19927 non-null  object\n",
      " 6   District_Code  19905 non-null  object\n",
      " 7   District_Name  19927 non-null  object\n",
      " 8   Course_Code    19927 non-null  object\n",
      " 9   Course_Name    19928 non-null  object\n",
      " 10  Total_Weight   19927 non-null  object\n",
      "dtypes: object(11)\n",
      "memory usage: 1.7+ MB\n"
     ]
    }
   ],
   "source": [
    "df.info()"
   ]
  },
  {
   "cell_type": "code",
   "execution_count": 4,
   "id": "907809e2",
   "metadata": {},
   "outputs": [
    {
     "data": {
      "text/html": [
       "<div>\n",
       "<style scoped>\n",
       "    .dataframe tbody tr th:only-of-type {\n",
       "        vertical-align: middle;\n",
       "    }\n",
       "\n",
       "    .dataframe tbody tr th {\n",
       "        vertical-align: top;\n",
       "    }\n",
       "\n",
       "    .dataframe thead th {\n",
       "        text-align: right;\n",
       "    }\n",
       "</style>\n",
       "<table border=\"1\" class=\"dataframe\">\n",
       "  <thead>\n",
       "    <tr style=\"text-align: right;\">\n",
       "      <th></th>\n",
       "      <th>Record_Number</th>\n",
       "      <th>Form_ID</th>\n",
       "      <th>Index_Number</th>\n",
       "      <th>Student_Name</th>\n",
       "      <th>Gender</th>\n",
       "      <th>UACE_Year</th>\n",
       "      <th>District_Code</th>\n",
       "      <th>District_Name</th>\n",
       "      <th>Course_Code</th>\n",
       "      <th>Course_Name</th>\n",
       "      <th>Total_Weight</th>\n",
       "    </tr>\n",
       "  </thead>\n",
       "  <tbody>\n",
       "    <tr>\n",
       "      <th>count</th>\n",
       "      <td>20086</td>\n",
       "      <td>19927</td>\n",
       "      <td>19927</td>\n",
       "      <td>19927</td>\n",
       "      <td>19927</td>\n",
       "      <td>19927</td>\n",
       "      <td>19905</td>\n",
       "      <td>19927</td>\n",
       "      <td>19927</td>\n",
       "      <td>19928</td>\n",
       "      <td>19927</td>\n",
       "    </tr>\n",
       "    <tr>\n",
       "      <th>unique</th>\n",
       "      <td>1058</td>\n",
       "      <td>19769</td>\n",
       "      <td>19354</td>\n",
       "      <td>19561</td>\n",
       "      <td>3</td>\n",
       "      <td>28</td>\n",
       "      <td>126</td>\n",
       "      <td>127</td>\n",
       "      <td>161</td>\n",
       "      <td>160</td>\n",
       "      <td>447</td>\n",
       "    </tr>\n",
       "    <tr>\n",
       "      <th>top</th>\n",
       "      <td>1</td>\n",
       "      <td>formid</td>\n",
       "      <td>index_no</td>\n",
       "      <td>name</td>\n",
       "      <td>F</td>\n",
       "      <td>2024</td>\n",
       "      <td>55</td>\n",
       "      <td>WAKISO</td>\n",
       "      <td>BBA</td>\n",
       "      <td>Bachelor of Business Administration</td>\n",
       "      <td>tot_wt</td>\n",
       "    </tr>\n",
       "    <tr>\n",
       "      <th>freq</th>\n",
       "      <td>160</td>\n",
       "      <td>159</td>\n",
       "      <td>159</td>\n",
       "      <td>159</td>\n",
       "      <td>11281</td>\n",
       "      <td>17617</td>\n",
       "      <td>2354</td>\n",
       "      <td>2358</td>\n",
       "      <td>899</td>\n",
       "      <td>1001</td>\n",
       "      <td>159</td>\n",
       "    </tr>\n",
       "  </tbody>\n",
       "</table>\n",
       "</div>"
      ],
      "text/plain": [
       "        Record_Number Form_ID Index_Number Student_Name Gender  UACE_Year  \\\n",
       "count           20086   19927        19927        19927  19927      19927   \n",
       "unique           1058   19769        19354        19561      3         28   \n",
       "top                 1  formid     index_no         name      F       2024   \n",
       "freq              160     159          159          159  11281      17617   \n",
       "\n",
       "        District_Code District_Name Course_Code  \\\n",
       "count           19905         19927       19927   \n",
       "unique            126           127         161   \n",
       "top                55        WAKISO         BBA   \n",
       "freq             2354          2358         899   \n",
       "\n",
       "                                Course_Name Total_Weight  \n",
       "count                                 19928        19927  \n",
       "unique                                  160          447  \n",
       "top     Bachelor of Business Administration       tot_wt  \n",
       "freq                                   1001          159  "
      ]
     },
     "execution_count": 4,
     "metadata": {},
     "output_type": "execute_result"
    }
   ],
   "source": [
    "df.describe()"
   ]
  },
  {
   "cell_type": "code",
   "execution_count": 5,
   "id": "23097c38",
   "metadata": {},
   "outputs": [
    {
     "data": {
      "text/plain": [
       "Record_Number    159\n",
       "Form_ID          318\n",
       "Index_Number     318\n",
       "Student_Name     318\n",
       "Gender           318\n",
       "UACE_Year        318\n",
       "District_Code    340\n",
       "District_Name    318\n",
       "Course_Code      318\n",
       "Course_Name      317\n",
       "Total_Weight     318\n",
       "dtype: int64"
      ]
     },
     "execution_count": 5,
     "metadata": {},
     "output_type": "execute_result"
    }
   ],
   "source": [
    "df.isnull().sum()"
   ]
  },
  {
   "cell_type": "markdown",
   "id": "5ae5663a",
   "metadata": {},
   "source": [
    "#### Cleaning the dataset"
   ]
  },
  {
   "cell_type": "code",
   "execution_count": 7,
   "id": "d1905aec",
   "metadata": {},
   "outputs": [
    {
     "ename": "NameError",
     "evalue": "name 'df_raw' is not defined",
     "output_type": "error",
     "traceback": [
      "\u001b[31m---------------------------------------------------------------------------\u001b[39m",
      "\u001b[31mNameError\u001b[39m                                 Traceback (most recent call last)",
      "\u001b[36mCell\u001b[39m\u001b[36m \u001b[39m\u001b[32mIn[7]\u001b[39m\u001b[32m, line 3\u001b[39m\n\u001b[32m      1\u001b[39m \u001b[38;5;66;03m# Step 1: Identify all program sections in the sheet\u001b[39;00m\n\u001b[32m      2\u001b[39m \u001b[38;5;66;03m# We'll detect rows where only one non-null cell exists and contains a program name\u001b[39;00m\n\u001b[32m----> \u001b[39m\u001b[32m3\u001b[39m program_rows = \u001b[43mdf_raw\u001b[49m[df_raw.notna().sum(axis=\u001b[32m1\u001b[39m) == \u001b[32m1\u001b[39m]\n\u001b[32m      4\u001b[39m \u001b[38;5;66;03m# Extract the program names from these rows\u001b[39;00m\n\u001b[32m      5\u001b[39m program_names = program_rows.iloc[:, \u001b[32m0\u001b[39m].tolist()\n",
      "\u001b[31mNameError\u001b[39m: name 'df_raw' is not defined"
     ]
    }
   ],
   "source": [
    "# Step 1: Identify all program sections in the sheet\n",
    "# We'll detect rows where only one non-null cell exists and contains a program name\n",
    "program_rows = df_raw[df_raw.notna().sum(axis=1) == 1]\n",
    "# Extract the program names from these rows\n",
    "program_names = program_rows.iloc[:, 0].tolist()"
   ]
  }
 ],
 "metadata": {
  "kernelspec": {
   "display_name": "Python 3",
   "language": "python",
   "name": "python3"
  },
  "language_info": {
   "codemirror_mode": {
    "name": "ipython",
    "version": 3
   },
   "file_extension": ".py",
   "mimetype": "text/x-python",
   "name": "python",
   "nbconvert_exporter": "python",
   "pygments_lexer": "ipython3",
   "version": "3.12.6"
  }
 },
 "nbformat": 4,
 "nbformat_minor": 5
}
