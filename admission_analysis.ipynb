{
 "cells": [
  {
   "cell_type": "markdown",
   "id": "2ab1256e",
   "metadata": {},
   "source": [
    "Loading the dataset"
   ]
  },
  {
   "cell_type": "code",
   "execution_count": 5,
   "id": "b414f61c",
   "metadata": {},
   "outputs": [
    {
     "name": "stdout",
     "output_type": "stream",
     "text": [
      "  no                 formid   index_no                     name ge uace_  \\\n",
      "0  1   25APF900350094290048  U2789/905        NIMUSIIMA SANDRAH  F  2024   \n",
      "1  2   25APF561140686250786  U0025/529  BULUKUKU DANIEL EPHRAIM  M  2014   \n",
      "2  3   25APF530278631275455  U2977/518        MIREMBE ELIZABETH  F  2024   \n",
      "3  4  25APF1346250173272930  U1664/712         NAMATA    MARTHA  F  2024   \n",
      "4  5  25APF1553620758303031  U0004/754           NAKALEMA JOYCE  F  2024   \n",
      "\n",
      "  dcode    dname course_code            course_name tot_wt  \n",
      "0    55   WAKISO         ACC  BSC. Accounting (EVE)   42.7  \n",
      "1    93   KIBUKU         ACC  BSC. Accounting (EVE)   42.3  \n",
      "2    16  KAMPALA         ACC  BSC. Accounting (EVE)   41.1  \n",
      "3    33   MASAKA         ACC  BSC. Accounting (EVE)   40.7  \n",
      "4    33   MASAKA         ACC  BSC. Accounting (EVE)   40.3  \n"
     ]
    }
   ],
   "source": [
    "import pandas as pd\n",
    "\n",
    "# Load the dataset, skipping the first 10 rows\n",
    "# This assumes your CSV file is in the same directory as your Python script or notebook\n",
    "df = pd.read_excel('Admission.xlsx', skiprows=5)\n",
    "\n",
    "# Print the first few rows (the header and some data) of the loaded dataset\n",
    "print(df.head())"
   ]
  },
  {
   "cell_type": "code",
   "execution_count": 2,
   "id": "588c692b",
   "metadata": {},
   "outputs": [
    {
     "data": {
      "text/plain": [
       "['Secondary School', 'Code', 'Institution Name', 'Address', 'District']"
      ]
     },
     "execution_count": 2,
     "metadata": {},
     "output_type": "execute_result"
    }
   ],
   "source": [
    "# Split lines and assume each line is a row\n",
    "lines = []\n",
    "for text in text_data:\n",
    "    lines.extend(text.split('\\n'))\n",
    "\n",
    "# Remove empty lines and preview\n",
    "lines = [line.strip() for line in lines if line.strip()]\n",
    "lines[:5]\n"
   ]
  },
  {
   "cell_type": "code",
   "execution_count": 3,
   "id": "a81a7863",
   "metadata": {},
   "outputs": [
    {
     "data": {
      "text/html": [
       "<div>\n",
       "<style scoped>\n",
       "    .dataframe tbody tr th:only-of-type {\n",
       "        vertical-align: middle;\n",
       "    }\n",
       "\n",
       "    .dataframe tbody tr th {\n",
       "        vertical-align: top;\n",
       "    }\n",
       "\n",
       "    .dataframe thead th {\n",
       "        text-align: right;\n",
       "    }\n",
       "</style>\n",
       "<table border=\"1\" class=\"dataframe\">\n",
       "  <thead>\n",
       "    <tr style=\"text-align: right;\">\n",
       "      <th></th>\n",
       "      <th>0</th>\n",
       "    </tr>\n",
       "  </thead>\n",
       "  <tbody>\n",
       "    <tr>\n",
       "      <th>0</th>\n",
       "      <td>Secondary School</td>\n",
       "    </tr>\n",
       "    <tr>\n",
       "      <th>1</th>\n",
       "      <td>Code</td>\n",
       "    </tr>\n",
       "    <tr>\n",
       "      <th>2</th>\n",
       "      <td>Institution Name</td>\n",
       "    </tr>\n",
       "    <tr>\n",
       "      <th>3</th>\n",
       "      <td>Address</td>\n",
       "    </tr>\n",
       "    <tr>\n",
       "      <th>4</th>\n",
       "      <td>District</td>\n",
       "    </tr>\n",
       "  </tbody>\n",
       "</table>\n",
       "</div>"
      ],
      "text/plain": [
       "                  0\n",
       "0  Secondary School\n",
       "1              Code\n",
       "2  Institution Name\n",
       "3           Address\n",
       "4          District"
      ]
     },
     "execution_count": 3,
     "metadata": {},
     "output_type": "execute_result"
    }
   ],
   "source": [
    "# Sample parsing logic (customize as per your format)\n",
    "data = [line.split('\\t') for line in lines]  # or line.split(',') if comma-separated\n",
    "\n",
    "# Convert to DataFrame\n",
    "df = pd.DataFrame(data)\n",
    "\n",
    "# Preview\n",
    "df.head()\n"
   ]
  },
  {
   "cell_type": "code",
   "execution_count": 4,
   "id": "907809e2",
   "metadata": {},
   "outputs": [
    {
     "name": "stdout",
     "output_type": "stream",
     "text": [
      "Data saved to 'output_data.csv'.\n"
     ]
    }
   ],
   "source": [
    "df.to_csv('output_data.csv', index=False)\n",
    "# Save DataFrame to CSV\n",
    "print(\"Data saved to 'output_data.csv'.\")"
   ]
  },
  {
   "cell_type": "code",
   "execution_count": 5,
   "id": "23097c38",
   "metadata": {},
   "outputs": [
    {
     "data": {
      "text/html": [
       "<div>\n",
       "<style scoped>\n",
       "    .dataframe tbody tr th:only-of-type {\n",
       "        vertical-align: middle;\n",
       "    }\n",
       "\n",
       "    .dataframe tbody tr th {\n",
       "        vertical-align: top;\n",
       "    }\n",
       "\n",
       "    .dataframe thead th {\n",
       "        text-align: right;\n",
       "    }\n",
       "</style>\n",
       "<table border=\"1\" class=\"dataframe\">\n",
       "  <thead>\n",
       "    <tr style=\"text-align: right;\">\n",
       "      <th></th>\n",
       "      <th>0</th>\n",
       "    </tr>\n",
       "  </thead>\n",
       "  <tbody>\n",
       "    <tr>\n",
       "      <th>0</th>\n",
       "      <td>Secondary School</td>\n",
       "    </tr>\n",
       "    <tr>\n",
       "      <th>1</th>\n",
       "      <td>Code</td>\n",
       "    </tr>\n",
       "    <tr>\n",
       "      <th>2</th>\n",
       "      <td>Institution Name</td>\n",
       "    </tr>\n",
       "    <tr>\n",
       "      <th>3</th>\n",
       "      <td>Address</td>\n",
       "    </tr>\n",
       "    <tr>\n",
       "      <th>4</th>\n",
       "      <td>District</td>\n",
       "    </tr>\n",
       "  </tbody>\n",
       "</table>\n",
       "</div>"
      ],
      "text/plain": [
       "                  0\n",
       "0  Secondary School\n",
       "1              Code\n",
       "2  Institution Name\n",
       "3           Address\n",
       "4          District"
      ]
     },
     "execution_count": 5,
     "metadata": {},
     "output_type": "execute_result"
    }
   ],
   "source": [
    "# Load\n",
    "df = pd.read_csv('output_data.csv')\n",
    "\n",
    "# Basic preprocessing\n",
    "df = df.dropna()  # remove missing rows\n",
    "df.columns = df.columns.str.strip().str.lower().str.replace(' ', '_')  # clean column names\n",
    "\n",
    "# Preview\n",
    "df.head()\n"
   ]
  },
  {
   "cell_type": "code",
   "execution_count": null,
   "id": "d1905aec",
   "metadata": {},
   "outputs": [],
   "source": []
  }
 ],
 "metadata": {
  "kernelspec": {
   "display_name": "Python 3",
   "language": "python",
   "name": "python3"
  },
  "language_info": {
   "codemirror_mode": {
    "name": "ipython",
    "version": 3
   },
   "file_extension": ".py",
   "mimetype": "text/x-python",
   "name": "python",
   "nbconvert_exporter": "python",
   "pygments_lexer": "ipython3",
   "version": "3.12.6"
  }
 },
 "nbformat": 4,
 "nbformat_minor": 5
}
